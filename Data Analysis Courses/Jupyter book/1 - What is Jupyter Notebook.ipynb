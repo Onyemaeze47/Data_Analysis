{
 "cells": [
  {
   "cell_type": "markdown",
   "metadata": {},
   "source": [
    "Jupyter notebook was known as ipython notebook(ipynb)\n",
    "\n",
    "Jupyter notebook is a web application that allows you to run live code, embed visualization and explanatory text all in one place\n",
    "\n",
    "Jupyter notebook: \n",
    "\n",
    "(1)supports 40 programming languages \n",
    "\n",
    "(2)allows you to share notebooks using email, Dropbox,GitHub & the Viewer.\n",
    "\n",
    "(3) It has support of interactive widgets and (4)Has big data integration."
   ]
  },
  {
   "cell_type": "code",
   "execution_count": null,
   "metadata": {},
   "outputs": [],
   "source": []
  }
 ],
 "metadata": {
  "kernelspec": {
   "display_name": "Python 3",
   "language": "python",
   "name": "python3"
  },
  "language_info": {
   "codemirror_mode": {
    "name": "ipython",
    "version": 3
   },
   "file_extension": ".py",
   "mimetype": "text/x-python",
   "name": "python",
   "nbconvert_exporter": "python",
   "pygments_lexer": "ipython3",
   "version": "3.8.5"
  }
 },
 "nbformat": 4,
 "nbformat_minor": 4
}
